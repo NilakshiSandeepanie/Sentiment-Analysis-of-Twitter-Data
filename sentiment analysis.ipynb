{
 "cells": [
  {
   "cell_type": "code",
   "execution_count": null,
   "id": "067e6891",
   "metadata": {},
   "outputs": [],
   "source": [
    "pip install tweepy pandas"
   ]
  },
  {
   "cell_type": "code",
   "execution_count": null,
   "id": "4737c170",
   "metadata": {},
   "outputs": [],
   "source": [
    "pip install numpy==1.21.0"
   ]
  },
  {
   "cell_type": "code",
   "execution_count": null,
   "id": "36b39eae",
   "metadata": {},
   "outputs": [],
   "source": [
    "pip install pandas==1.3.0"
   ]
  },
  {
   "cell_type": "code",
   "execution_count": null,
   "id": "9761525e",
   "metadata": {},
   "outputs": [],
   "source": [
    "pip install --upgrade tweepy"
   ]
  },
  {
   "cell_type": "code",
   "execution_count": null,
   "id": "8f047f8e",
   "metadata": {},
   "outputs": [],
   "source": [
    "import tweepy\n",
    "import pandas as pd\n",
    "\n",
    "# Twitter API credentials\n",
    "#bearer_token = 'AAAAAAAAAAAAAAAAAAAAAMngugEAAAAAHs84A%2FalMvMIqCt%2FV5NCZfZNvf0%3DYHxkzFJDoE2RnUhfyXHL4tPfsTRvi5hQZV07GvkO12S9duuiHb'\n",
    "\n",
    "# Twitter API credentials\n",
    "consumer_key = 'your_consumer_key'\n",
    "consumer_secret = 'your_consumer_secret'\n",
    "access_token = 'your_access_token'\n",
    "access_token_secret = 'your_access_token_secret'\n",
    "\n",
    "# Authenticate with the Twitter API\n",
    "auth = tweepy.OAuth1UserHandler(consumer_key, consumer_secret, access_token, access_token_secret)\n",
    "api = tweepy.API(auth, wait_on_rate_limit=True)\n",
    "\n",
    "# Define a function to extract tweets\n",
    "def get_tweets(keyword, count):\n",
    "    tweets = []\n",
    "    for tweet in tweepy.Cursor(api.search_tweets, q=keyword, lang=\"en\").items(count):\n",
    "        tweets.append(tweet.text)\n",
    "    return tweets\n",
    "\n",
    "# Extract tweets\n",
    "keyword = \"your_keyword\"\n",
    "tweet_count = 1000\n",
    "tweets = get_tweets(keyword, tweet_count)\n",
    "\n",
    "# Create a DataFrame\n",
    "df = pd.DataFrame(tweets, columns=['tweet'])\n",
    "df.to_csv('tweets.csv', index=False)"
   ]
  },
  {
   "cell_type": "code",
   "execution_count": null,
   "id": "0c4555c2",
   "metadata": {},
   "outputs": [],
   "source": [
    "#store the data in Hadoop's HDFS\n",
    "hadoop fs -put tweets.csv /path/to/hdfs/tweets.csv"
   ]
  },
  {
   "cell_type": "code",
   "execution_count": null,
   "id": "576a54bf",
   "metadata": {},
   "outputs": [],
   "source": [
    "#data processing with Spark\n",
    "from pyspark.sql import SparkSession\n",
    "from pyspark.sql.functions import col, udf\n",
    "from pyspark.sql.types import StringType\n",
    "import re\n",
    "\n",
    "# Initialize Spark session\n",
    "spark = SparkSession.builder \\\n",
    "    .appName(\"TwitterSentimentAnalysis\") \\\n",
    "    .getOrCreate()\n",
    "\n",
    "# Load the data\n",
    "df = spark.read.csv('/path/to/hdfs/tweets.csv', header=True)\n",
    "\n",
    "# Define a UDF for text cleaning\n",
    "def clean_tweet(tweet):\n",
    "    tweet = re.sub(r'http\\S+', '', tweet)\n",
    "    tweet = re.sub(r'@\\w+', '', tweet)\n",
    "    tweet = re.sub(r'#', '', tweet)\n",
    "    tweet = re.sub(r'RT', '', tweet)\n",
    "    tweet = re.sub(r'\\W', ' ', tweet)\n",
    "    tweet = tweet.lower()\n",
    "    return tweet\n",
    "\n",
    "clean_tweet_udf = udf(lambda x: clean_tweet(x), StringType())\n",
    "\n",
    "# Apply the UDF\n",
    "df = df.withColumn('cleaned_tweet', clean_tweet_udf(col('tweet')))\n",
    "df.show(5)\n"
   ]
  },
  {
   "cell_type": "code",
   "execution_count": null,
   "id": "9935a043",
   "metadata": {},
   "outputs": [],
   "source": [
    "#perform sentiment analysis using a pre-trained model like VADER\n",
    "from vaderSentiment.vaderSentiment import SentimentIntensityAnalyzer\n",
    "\n",
    "# Initialize the VADER sentiment analyzer\n",
    "analyzer = SentimentIntensityAnalyzer()\n",
    "\n",
    "# Define a UDF for sentiment analysis\n",
    "def analyze_sentiment(tweet):\n",
    "    score = analyzer.polarity_scores(tweet)\n",
    "    if score['compound'] >= 0.05:\n",
    "        return 'positive'\n",
    "    elif score['compound'] <= -0.05:\n",
    "        return 'negative'\n",
    "    else:\n",
    "        return 'neutral'\n",
    "\n",
    "analyze_sentiment_udf = udf(lambda x: analyze_sentiment(x), StringType())\n",
    "\n",
    "# Apply the UDF\n",
    "df = df.withColumn('sentiment', analyze_sentiment_udf(col('cleaned_tweet')))\n",
    "df.show(5)\n"
   ]
  },
  {
   "cell_type": "code",
   "execution_count": null,
   "id": "99b934df",
   "metadata": {},
   "outputs": [],
   "source": [
    "#visualize sentiment distribution\n",
    "\n",
    "import matplotlib.pyplot as plt\n",
    "\n",
    "# Convert to Pandas DataFrame for visualization\n",
    "pandas_df = df.toPandas()\n",
    "\n",
    "# Plot the sentiment distribution\n",
    "sentiment_counts = pandas_df['sentiment'].value_counts()\n",
    "plt.figure(figsize=(8,6))\n",
    "sentiment_counts.plot(kind='bar', color=['blue', 'green', 'red'])\n",
    "plt.title('Sentiment Analysis of Tweets')\n",
    "plt.xlabel('Sentiment')\n",
    "plt.ylabel('Number of Tweets')\n",
    "plt.show()\n"
   ]
  },
  {
   "cell_type": "markdown",
   "id": "4f877f1a",
   "metadata": {},
   "source": [
    "Deploying your analysis using a web framework like Flask or Django to allow real-time sentiment analysis."
   ]
  }
 ],
 "metadata": {
  "kernelspec": {
   "display_name": "Python 3 (ipykernel)",
   "language": "python",
   "name": "python3"
  },
  "language_info": {
   "codemirror_mode": {
    "name": "ipython",
    "version": 3
   },
   "file_extension": ".py",
   "mimetype": "text/x-python",
   "name": "python",
   "nbconvert_exporter": "python",
   "pygments_lexer": "ipython3",
   "version": "3.9.13"
  }
 },
 "nbformat": 4,
 "nbformat_minor": 5
}
